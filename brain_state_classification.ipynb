{
 "cells": [
  {
   "cell_type": "code",
   "execution_count": null,
   "metadata": {},
   "outputs": [],
   "source": [
    "!pip install nilearn"
   ]
  },
  {
   "cell_type": "code",
   "execution_count": 1,
   "metadata": {},
   "outputs": [],
   "source": [
    "import os\n",
    "import numpy as np\n",
    "import math\n",
    "from nibabel.testing import data_path\n",
    "import nibabel as nib\n",
    "from nilearn import image\n",
    "\n",
    "import sklearn\n",
    "from sklearn.decomposition import PCA\n",
    "from sklearn.model_selection import KFold\n",
    "from sklearn import svm\n",
    "from sklearn.model_selection import StratifiedKFold, GridSearchCV\n",
    "from sklearn.model_selection import cross_val_score\n",
    "\n",
    "import matplotlib.pyplot as plt\n",
    "\n",
    "import scipy.io\n",
    "import cv2"
   ]
  },
  {
   "cell_type": "markdown",
   "metadata": {},
   "source": [
    "# Preprocessing"
   ]
  },
  {
   "cell_type": "code",
   "execution_count": 2,
   "metadata": {},
   "outputs": [],
   "source": [
    "filename = './data/sub-01/ses-test/func/sub-01_ses-test_task-fingerfootlips_bold.nii'"
   ]
  },
  {
   "cell_type": "code",
   "execution_count": 3,
   "metadata": {},
   "outputs": [],
   "source": [
    "maskname = './data/sub-01/ses-test/func/c6sub-01_ses-test_task-fingerfootlips_bold.nii'"
   ]
  },
  {
   "cell_type": "code",
   "execution_count": 4,
   "metadata": {},
   "outputs": [],
   "source": [
    "def preprocessing(filename, maskname):\n",
    "    # return processed images with mask\n",
    "    \n",
    "    # loading image\n",
    "    img = nib.load(filename)\n",
    "    img_mask = nib.load(maskname)\n",
    "    \n",
    "    # open up file components\n",
    "    test_img=[]\n",
    "    for volume in image.iter_img(filename):\n",
    "        test_img.append(volume.dataobj)\n",
    "        \n",
    "    test_img = np.array(test_img)\n",
    "    test_mask = img_mask.get_fdata()\n",
    "    \n",
    "    # binary mask with threshold\n",
    "    th, dst = cv2.threshold(img_mask.get_fdata(),0.8,1, cv2.THRESH_BINARY_INV)\n",
    "    \n",
    "    # for each image in 184, match with corresponding mask. since mask is 0 and 1, just need to multiple all of them\n",
    "    clean_test_img = test_img.copy()\n",
    "    for i in range(len(test_img)):\n",
    "        for j in range(dst.shape[2]):\n",
    "            t_img = test_img[i,:,:,j]\n",
    "            m_img = dst[:,:,j]\n",
    "            new = t_img * m_img\n",
    "            clean_test_img[i,:,:,j] = new\n",
    "    clean_test_img = np.array(clean_test_img)\n",
    "    return clean_test_img"
   ]
  },
  {
   "cell_type": "code",
   "execution_count": 5,
   "metadata": {},
   "outputs": [],
   "source": [
    "cleaned_imgs = preprocessing(filename, maskname)"
   ]
  },
  {
   "cell_type": "code",
   "execution_count": 6,
   "metadata": {},
   "outputs": [
    {
     "data": {
      "text/plain": [
       "<matplotlib.image.AxesImage at 0x7fba3824a520>"
      ]
     },
     "execution_count": 6,
     "metadata": {},
     "output_type": "execute_result"
    },
    {
     "data": {
      "image/png": "[encoded data removed]",
      "text/plain": [
       "<Figure size 432x288 with 1 Axes>"
      ]
     },
     "metadata": {
      "needs_background": "light"
     },
     "output_type": "display_data"
    }
   ],
   "source": [
    "plt.imshow(cleaned_imgs[1,:,:,20],cmap='gray')"
   ]
  },
  {
   "cell_type": "code",
   "execution_count": 7,
   "metadata": {},
   "outputs": [],
   "source": [
    "mat = scipy.io.loadmat('./data/label.mat')"
   ]
  },
  {
   "cell_type": "code",
   "execution_count": 8,
   "metadata": {},
   "outputs": [],
   "source": [
    "label = mat['label']\n",
    "\n",
    "# label 1 means Rest (fixation) which has 94 volumes\n",
    "# label 2 means Finger movement which has 30 volumes\n",
    "# label 3 means Lips movement which has 30 volumes\n",
    "# label 4 means Foot movement which has 30 volumes"
   ]
  },
  {
   "cell_type": "code",
   "execution_count": 9,
   "metadata": {},
   "outputs": [
    {
     "data": {
      "text/plain": [
       "184"
      ]
     },
     "execution_count": 9,
     "metadata": {},
     "output_type": "execute_result"
    }
   ],
   "source": [
    "len(label)"
   ]
  },
  {
   "cell_type": "markdown",
   "metadata": {},
   "source": [
    "# Feature Selection\n"
   ]
  },
  {
   "cell_type": "code",
   "execution_count": 10,
   "metadata": {},
   "outputs": [],
   "source": [
    "def feature_selection(cleaned_images, n):\n",
    "    # PCA\n",
    "    \n",
    "    # first decompose to matrix of 184 and combination of all other levels\n",
    "    size, s1, s2, s3 = cleaned_images.shape\n",
    "    reshaped_images = cleaned_images.reshape(size, s1*s2*s3)\n",
    "    \n",
    "    pca = PCA(n_components=n)\n",
    "    pca_images = pca.fit_transform(reshaped_images)\n",
    "    \n",
    "    return reshaped_images, pca_images"
   ]
  },
  {
   "cell_type": "code",
   "execution_count": 11,
   "metadata": {},
   "outputs": [],
   "source": [
    "reshaped_imgs, pca_imgs = feature_selection(cleaned_imgs, 80)"
   ]
  },
  {
   "cell_type": "code",
   "execution_count": 12,
   "metadata": {},
   "outputs": [
    {
     "data": {
      "text/plain": [
       "(184, 80)"
      ]
     },
     "execution_count": 12,
     "metadata": {},
     "output_type": "execute_result"
    }
   ],
   "source": [
    "pca_imgs.shape"
   ]
  },
  {
   "cell_type": "markdown",
   "metadata": {},
   "source": [
    "# Classification & K-fold Cross Validation"
   ]
  },
  {
   "cell_type": "code",
   "execution_count": 13,
   "metadata": {},
   "outputs": [
    {
     "data": {
      "text/plain": [
       "array([1, 1, 1, 1, 2, 2, 2, 2, 2, 2, 1, 1, 1, 1, 1, 1, 3, 3, 3, 3, 3, 3,\n",
       "       1, 1, 1, 1, 1, 1, 4, 4, 4, 4, 4, 4, 1, 1, 1, 1, 1, 1, 2, 2, 2, 2,\n",
       "       2, 2, 1, 1, 1, 1, 1, 1, 3, 3, 3, 3, 3, 3, 1, 1, 1, 1, 1, 1, 4, 4,\n",
       "       4, 4, 4, 4, 1, 1, 1, 1, 1, 1, 2, 2, 2, 2, 2, 2, 1, 1, 1, 1, 1, 1,\n",
       "       3, 3, 3, 3, 3, 3, 1, 1, 1, 1, 1, 1, 4, 4, 4, 4, 4, 4, 1, 1, 1, 1,\n",
       "       1, 1, 2, 2, 2, 2, 2, 2, 1, 1, 1, 1, 1, 1, 3, 3, 3, 3, 3, 3, 1, 1,\n",
       "       1, 1, 1, 1, 4, 4, 4, 4, 4, 4, 1, 1, 1, 1, 1, 1, 2, 2, 2, 2, 2, 2,\n",
       "       1, 1, 1, 1, 1, 1, 3, 3, 3, 3, 3, 3, 1, 1, 1, 1, 1, 1, 4, 4, 4, 4,\n",
       "       4, 4, 1, 1, 1, 1, 1, 1], dtype=uint8)"
      ]
     },
     "execution_count": 13,
     "metadata": {},
     "output_type": "execute_result"
    }
   ],
   "source": [
    "labels = label.flatten()\n",
    "labels"
   ]
  },
  {
   "cell_type": "code",
   "execution_count": 25,
   "metadata": {},
   "outputs": [
    {
     "name": "stdout",
     "output_type": "stream",
     "text": [
      "tuned hyperparameters for PCA\n",
      "Best parameters: {'C': 0.0001, 'gamma': 1e-05, 'kernel': 'linear'}\n"
     ]
    }
   ],
   "source": [
    "param_grid = {'C':[0.0001, 0.001, 0.01, 0.1,1,10],\n",
    "          'gamma':[0.00001, 0.0001,0.001,0.1,1],\n",
    "          'kernel':['linear','rbf','poly']}\n",
    "\n",
    "cross_val = StratifiedKFold(n_splits=9)\n",
    "\n",
    "svc = svm.SVC()\n",
    "clf = GridSearchCV(svc, param_grid, cv=cross_val)\n",
    "clf.fit(pca_imgs, labels)\n",
    "\n",
    "print('tuned hyperparameters for PCA')\n",
    "print('Best parameters: {}'.format(clf.best_params_))"
   ]
  },
  {
   "cell_type": "markdown",
   "metadata": {},
   "source": [
    "# Test Images"
   ]
  },
  {
   "cell_type": "code",
   "execution_count": 26,
   "metadata": {},
   "outputs": [
    {
     "name": "stderr",
     "output_type": "stream",
     "text": [
      "/Users/mirandazhou/opt/anaconda3/lib/python3.8/site-packages/sklearn/model_selection/_split.py:670: UserWarning: The least populated class in y has only 30 members, which is less than n_splits=31.\n",
      "  warnings.warn((\"The least populated class in y has only %d\"\n"
     ]
    },
    {
     "data": {
      "text/plain": [
       "0.8860215053763442"
      ]
     },
     "execution_count": 26,
     "metadata": {},
     "output_type": "execute_result"
    }
   ],
   "source": [
    "svc_test = svm.SVC(kernel=clf.best_params_['kernel'], C=clf.best_params_['C'], gamma=clf.best_params_['gamma'])\n",
    "# PCA\n",
    "np.mean(cross_val_score(svc_test,pca_imgs,labels,cv=31))"
   ]
  },
  {
   "cell_type": "code",
   "execution_count": 27,
   "metadata": {},
   "outputs": [
    {
     "name": "stderr",
     "output_type": "stream",
     "text": [
      "/Users/mirandazhou/opt/anaconda3/lib/python3.8/site-packages/sklearn/model_selection/_split.py:670: UserWarning: The least populated class in y has only 30 members, which is less than n_splits=31.\n",
      "  warnings.warn((\"The least populated class in y has only %d\"\n"
     ]
    },
    {
     "data": {
      "text/plain": [
       "0.875268817204301"
      ]
     },
     "execution_count": 27,
     "metadata": {},
     "output_type": "execute_result"
    }
   ],
   "source": [
    "# no PCA\n",
    "np.mean(cross_val_score(svc_test,reshaped_imgs,labels,cv=31))\n"
   ]
  },
  {
   "cell_type": "code",
   "execution_count": null,
   "metadata": {},
   "outputs": [],
   "source": []
  }
 ],
 "metadata": {
  "kernelspec": {
   "display_name": "Python 3",
   "language": "python",
   "name": "python3"
  },
  "language_info": {
   "codemirror_mode": {
    "name": "ipython",
    "version": 3
   },
   "file_extension": ".py",
   "mimetype": "text/x-python",
   "name": "python",
   "nbconvert_exporter": "python",
   "pygments_lexer": "ipython3",
   "version": "3.8.5"
  }
 },
 "nbformat": 4,
 "nbformat_minor": 4
}
